{
 "cells": [
  {
   "cell_type": "markdown",
   "metadata": {},
   "source": [
    "# Intro"
   ]
  },
  {
   "cell_type": "markdown",
   "metadata": {},
   "source": [
    "This notebooks shows my best model for the competition, it does not include the bayesian optimization itself since it was performed using Optuna in Kaggle due to hardware constraints."
   ]
  },
  {
   "cell_type": "markdown",
   "metadata": {},
   "source": [
    "# Imports and Loading Data"
   ]
  },
  {
   "cell_type": "code",
   "execution_count": 36,
   "metadata": {},
   "outputs": [],
   "source": [
    "import pandas as pd\n",
    "import numpy as np\n",
    "import seaborn as sns\n",
    "import matplotlib.pyplot as plt \n",
    "import pyarrow.parquet as pq\n",
    "import random\n",
    "import gc\n",
    "\n",
    "from sklearn.model_selection import StratifiedKFold\n",
    "from sklearn.metrics import log_loss\n",
    "from sklearn.metrics import accuracy_score\n",
    "\n",
    "import lightgbm as lgb\n",
    "import optuna"
   ]
  },
  {
   "cell_type": "code",
   "execution_count": 2,
   "metadata": {},
   "outputs": [],
   "source": [
    "# Setting seed\n",
    "SEED = 42\n",
    "\n",
    "np.random.seed(SEED)\n",
    "random.seed(SEED)"
   ]
  },
  {
   "cell_type": "code",
   "execution_count": 3,
   "metadata": {},
   "outputs": [
    {
     "name": "stdout",
     "output_type": "stream",
     "text": [
      "(492020, 1098) (163520, 1097)\n"
     ]
    }
   ],
   "source": [
    "# Batch size\n",
    "batch_size = 10000  \n",
    "\n",
    "# Function to read the file in batches and concatenate the DataFrames\n",
    "def load_parquet_in_chunks(filename, batch_size):\n",
    "    parquet_file = pq.ParquetFile(filename)\n",
    "    chunks = [batch.to_pandas() for batch in parquet_file.iter_batches(batch_size)]\n",
    "    return pd.concat(chunks, ignore_index=True)\n",
    "\n",
    "# Load the files in chunks\n",
    "data = load_parquet_in_chunks(\"data_for_optuna.parquet\", batch_size)\n",
    "data_test = load_parquet_in_chunks(\"data_test_for_optuna.parquet\", batch_size)\n",
    "\n",
    "# Verify that the DataFrames were loaded correctly\n",
    "print(data.shape, data_test.shape)"
   ]
  },
  {
   "cell_type": "markdown",
   "metadata": {},
   "source": [
    "# Models"
   ]
  },
  {
   "cell_type": "markdown",
   "metadata": {},
   "source": [
    "Creating 10 stratified folds based on whether a time series has a flood or not (keeping all records from each time series on its fold)"
   ]
  },
  {
   "cell_type": "code",
   "execution_count": 4,
   "metadata": {},
   "outputs": [],
   "source": [
    "def stratified_event_cv(data, num_folds=10):\n",
    "    # Create a mapping of event_id to its label (1 if it contains any label=1, else 0)\n",
    "    event_labels = data.groupby('event_id')['label'].max()\n",
    "\n",
    "    # Initialize StratifiedKFold\n",
    "    skf = StratifiedKFold(n_splits=num_folds, shuffle=True, random_state=SEED)\n",
    "    \n",
    "    # Assign fold numbers at the event level\n",
    "    event_folds = {}\n",
    "    for fold, (train_idx, val_idx) in enumerate(skf.split(event_labels.index, event_labels.values)):\n",
    "        for event_id in event_labels.index[val_idx]:\n",
    "            event_folds[event_id] = fold  # Assign the whole event to a fold\n",
    "    \n",
    "    # Apply fold assignment to the original data\n",
    "    data['fold'] = data['event_id'].map(event_folds)\n",
    "\n",
    "    return data\n",
    "\n",
    "data = stratified_event_cv(data, num_folds = 10)"
   ]
  },
  {
   "cell_type": "markdown",
   "metadata": {},
   "source": [
    "## Classifying in time series with and without flood CV"
   ]
  },
  {
   "cell_type": "markdown",
   "metadata": {},
   "source": [
    "As features for this model I took:\n",
    "* All image related features (stats + GLCM features).\n",
    "* Aggregated stats of precipitation."
   ]
  },
  {
   "cell_type": "code",
   "execution_count": 5,
   "metadata": {},
   "outputs": [],
   "source": [
    "glcm_terms = ['Contrast', 'Correlation', 'Homogeneity', 'Entropy', 'ASM']\n",
    "glcm_cols = [col for col in data.columns if any(col.endswith(term) for term in glcm_terms)]\n",
    "\n",
    "stats_terms = ['mean', 'std', 'kurtosis', 'skew', 'min', 'max', 'p10', 'p25', 'p50', 'p75', 'p90']\n",
    "stats_cols = [col for col in data.columns if any(col.endswith(term) for term in stats_terms)]\n",
    "\n",
    "precipitation_cols = ['precipitation_percentage']"
   ]
  },
  {
   "cell_type": "code",
   "execution_count": 6,
   "metadata": {},
   "outputs": [],
   "source": [
    "# Perform aggregation as before\n",
    "data_selected = data.groupby('event_id').agg({\n",
    "    **{col: 'first' for col in precipitation_cols},\n",
    "    **{col: 'first' for col in glcm_cols},\n",
    "    **{col: 'first' for col in stats_cols},\n",
    "    'fold': 'first',\n",
    "    'label': 'max'  # Use 'max' for label aggregation\n",
    "}).reset_index()"
   ]
  },
  {
   "cell_type": "code",
   "execution_count": 7,
   "metadata": {},
   "outputs": [],
   "source": [
    "mc1 = precipitation_cols + glcm_cols + stats_cols\n",
    "mc1 = list(set(mc1))"
   ]
  },
  {
   "cell_type": "code",
   "execution_count": 8,
   "metadata": {},
   "outputs": [
    {
     "name": "stderr",
     "output_type": "stream",
     "text": [
      "c:\\Users\\ifake\\AppData\\Local\\Programs\\Python\\Python310\\lib\\site-packages\\lightgbm\\engine.py:204: UserWarning: Found `num_iterations` in params. Will use it instead of argument\n",
      "  _log_warning(f\"Found `{alias}` in params. Will use it instead of argument\")\n",
      "c:\\Users\\ifake\\AppData\\Local\\Programs\\Python\\Python310\\lib\\site-packages\\lightgbm\\engine.py:204: UserWarning: Found `num_iterations` in params. Will use it instead of argument\n",
      "  _log_warning(f\"Found `{alias}` in params. Will use it instead of argument\")\n",
      "c:\\Users\\ifake\\AppData\\Local\\Programs\\Python\\Python310\\lib\\site-packages\\lightgbm\\engine.py:204: UserWarning: Found `num_iterations` in params. Will use it instead of argument\n",
      "  _log_warning(f\"Found `{alias}` in params. Will use it instead of argument\")\n",
      "c:\\Users\\ifake\\AppData\\Local\\Programs\\Python\\Python310\\lib\\site-packages\\lightgbm\\engine.py:204: UserWarning: Found `num_iterations` in params. Will use it instead of argument\n",
      "  _log_warning(f\"Found `{alias}` in params. Will use it instead of argument\")\n",
      "c:\\Users\\ifake\\AppData\\Local\\Programs\\Python\\Python310\\lib\\site-packages\\lightgbm\\engine.py:204: UserWarning: Found `num_iterations` in params. Will use it instead of argument\n",
      "  _log_warning(f\"Found `{alias}` in params. Will use it instead of argument\")\n",
      "c:\\Users\\ifake\\AppData\\Local\\Programs\\Python\\Python310\\lib\\site-packages\\lightgbm\\engine.py:204: UserWarning: Found `num_iterations` in params. Will use it instead of argument\n",
      "  _log_warning(f\"Found `{alias}` in params. Will use it instead of argument\")\n",
      "c:\\Users\\ifake\\AppData\\Local\\Programs\\Python\\Python310\\lib\\site-packages\\lightgbm\\engine.py:204: UserWarning: Found `num_iterations` in params. Will use it instead of argument\n",
      "  _log_warning(f\"Found `{alias}` in params. Will use it instead of argument\")\n",
      "c:\\Users\\ifake\\AppData\\Local\\Programs\\Python\\Python310\\lib\\site-packages\\lightgbm\\engine.py:204: UserWarning: Found `num_iterations` in params. Will use it instead of argument\n",
      "  _log_warning(f\"Found `{alias}` in params. Will use it instead of argument\")\n",
      "c:\\Users\\ifake\\AppData\\Local\\Programs\\Python\\Python310\\lib\\site-packages\\lightgbm\\engine.py:204: UserWarning: Found `num_iterations` in params. Will use it instead of argument\n",
      "  _log_warning(f\"Found `{alias}` in params. Will use it instead of argument\")\n",
      "c:\\Users\\ifake\\AppData\\Local\\Programs\\Python\\Python310\\lib\\site-packages\\lightgbm\\engine.py:204: UserWarning: Found `num_iterations` in params. Will use it instead of argument\n",
      "  _log_warning(f\"Found `{alias}` in params. Will use it instead of argument\")\n"
     ]
    },
    {
     "name": "stdout",
     "output_type": "stream",
     "text": [
      "Average Accuracy: 0.9111062335381914\n"
     ]
    }
   ],
   "source": [
    "# Ensure that the 'label' column is binary\n",
    "X = data_selected[mc1]\n",
    "y = data_selected['label']\n",
    "\n",
    "# Store accuracy results for each fold\n",
    "accuracies = []\n",
    "predictions = []\n",
    "feature_importances = []\n",
    "\n",
    "# Start the cross-validation process using the existing folds\n",
    "for fold in range(data_selected['fold'].nunique()):\n",
    "    # Filter data for the current fold\n",
    "    train_data = data_selected[data_selected['fold'] != fold]\n",
    "    val_data = data_selected[data_selected['fold'] == fold]\n",
    "    \n",
    "    # Separate features and labels\n",
    "    X_train, y_train = train_data[mc1], train_data['label']\n",
    "    X_val, y_val = val_data[mc1], val_data['label']\n",
    "    \n",
    "    # Create datasets for LightGBM\n",
    "    train_set = lgb.Dataset(X_train, label=y_train)\n",
    "    val_set = lgb.Dataset(X_val, label=y_val, reference=train_set)\n",
    "    \n",
    "    # Define LightGBM parameters (basic values)\n",
    "    params = {\n",
    "        'objective': 'binary',\n",
    "        'metric': 'binary_error',  # Use binary_error for binary classification\n",
    "        'boosting_type': 'gbdt',\n",
    "        'num_leaves': 36, \n",
    "        'learning_rate': 0.16222004068204626, \n",
    "        'feature_fraction': 0.9624627336499201, \n",
    "        'bagging_fraction': 0.8276937924215806, \n",
    "        'bagging_freq': 8, \n",
    "        'num_iterations': 323,\n",
    "        'verbose': -1,\n",
    "        'early_stopping_rounds': 50,\n",
    "        'random_state': SEED\n",
    "    }\n",
    "\n",
    "    # Train the model\n",
    "    model = lgb.train(params, train_set, valid_sets=[val_set])\n",
    "    \n",
    "    # Predictions on the validation set (probabilities)\n",
    "    y_pred_probs = model.predict(X_val, num_iteration=model.best_iteration)\n",
    "    \n",
    "    # Convert probabilities to binary predictions\n",
    "    y_pred_binary = np.round(y_pred_probs)\n",
    "    accuracy = accuracy_score(y_val, y_pred_binary)\n",
    "    accuracies.append(accuracy)\n",
    "    \n",
    "    # Store predictions with event_id and predicted probabilities\n",
    "    temp_df = val_data[['event_id']].copy()\n",
    "    temp_df['pre_class'] = y_pred_probs\n",
    "    predictions.append(temp_df)\n",
    "    \n",
    "    # Store feature importances for the current fold\n",
    "    fold_importance = model.feature_importance(importance_type='split')  # Or 'gain' for gain-based importance\n",
    "    fold_importance_percentage = 100 * fold_importance / fold_importance.sum()  # Normalize to percentage\n",
    "    feature_importances.append(fold_importance_percentage)\n",
    "\n",
    "# Compute the average accuracy\n",
    "print(f\"Average Accuracy: {np.mean(accuracies)}\")\n",
    "\n",
    "# Concatenate all predictions into a single DataFrame\n",
    "class_predictions = pd.concat(predictions, ignore_index=True)\n",
    "\n",
    "# Compute the average feature importances (mean across folds)\n",
    "average_feature_importances = np.mean(feature_importances, axis=0)"
   ]
  },
  {
   "cell_type": "markdown",
   "metadata": {},
   "source": [
    "Feature importances of the model"
   ]
  },
  {
   "cell_type": "code",
   "execution_count": 9,
   "metadata": {},
   "outputs": [
    {
     "name": "stdout",
     "output_type": "stream",
     "text": [
      "                      feature  importance\n",
      "221         precipitation_std    3.750415\n",
      "135                    B2_max    3.732424\n",
      "107        precipitation_mean    2.933301\n",
      "0           B11_B4_Ratio_mean    2.520352\n",
      "172           B4_B3_Ratio_max    2.054432\n",
      "270        B8_i_1_Correlation    1.719409\n",
      "182                  NDWI_std    1.716115\n",
      "9          B2_i_1_Correlation    1.502261\n",
      "62         B3_i_1_Correlation    1.460002\n",
      "99                   SAVI_std    1.406445\n",
      "104                  RDVI_std    1.364090\n",
      "27         precipitation_skew    1.290464\n",
      "260          B8_B2_Ratio_skew    1.254397\n",
      "59        B11_i_1_Homogeneity    1.219128\n",
      "81                   BSI_mean    1.189261\n",
      "6                   NDWI_skew    1.176798\n",
      "143                  MMSR_std    1.149199\n",
      "83                   MMSR_min    1.137674\n",
      "133         precipitation_max    1.101607\n",
      "256                   BSI_p50    1.059541\n",
      "249                    B2_std    0.953031\n",
      "111          B8_B3_Ratio_skew    0.908964\n",
      "239                   EVI_std    0.895521\n",
      "134           B4_B3_Ratio_std    0.845857\n",
      "169       B11_i_1_Correlation    0.842944\n",
      "117        B2_i_1_Homogeneity    0.813457\n",
      "247           B3_B2_Ratio_max    0.803899\n",
      "8                   SAVI_skew    0.786091\n",
      "152                  ARVI_min    0.761622\n",
      "31                   BSI_skew    0.753278\n",
      "208             NDWI_kurtosis    0.737451\n",
      "88              NDVI_kurtosis    0.728573\n",
      "2          B8_i_1_Homogeneity    0.721079\n",
      "259           B3_B2_Ratio_std    0.699269\n",
      "240                   B2_skew    0.691179\n",
      "170                  B11_skew    0.686841\n",
      "237                   BSI_p75    0.665588\n",
      "176                    B3_max    0.644728\n",
      "210               B2_kurtosis    0.593545\n",
      "224                slope_skew    0.592511\n",
      "56       B3_B2_Ratio_kurtosis    0.589416\n",
      "58   precipitation_percentage    0.589283\n",
      "127                   BSI_p90    0.585212\n",
      "80            B8_i_1_Contrast    0.581173\n",
      "264                  NDMI_std    0.580248\n",
      "215        B4_i_1_Correlation    0.580131\n",
      "72      B11_B8_Ratio_kurtosis    0.557108\n",
      "153             MMSR_kurtosis    0.538709\n",
      "124                  ARVI_std    0.530624\n",
      "273                    B8_max    0.528812\n"
     ]
    }
   ],
   "source": [
    "# Display feature importances in percentage\n",
    "feature_importance_df = pd.DataFrame({\n",
    "    'feature': mc1,\n",
    "    'importance': average_feature_importances\n",
    "})\n",
    "\n",
    "# Sort by importance\n",
    "feature_importance_df = feature_importance_df.sort_values(by='importance', ascending=False)\n",
    "\n",
    "# Display top 10 features\n",
    "print(feature_importance_df.head(50))"
   ]
  },
  {
   "cell_type": "markdown",
   "metadata": {},
   "source": [
    "The images seem to be pretty important in assesing the risk of a flash flood in a location"
   ]
  },
  {
   "cell_type": "markdown",
   "metadata": {},
   "source": [
    "Also, since each time series has AT MOST one flood. We can lower the log loss by normalizing the probabilities so they sum 1 on the time series, ONLY for the locations that were predicted as having one flood."
   ]
  },
  {
   "cell_type": "code",
   "execution_count": 10,
   "metadata": {},
   "outputs": [
    {
     "data": {
      "text/plain": [
       "216"
      ]
     },
     "execution_count": 10,
     "metadata": {},
     "output_type": "execute_result"
    }
   ],
   "source": [
    "# Saving RAM\n",
    "del data_selected, X, y, accuracies, predictions, X_train, y_train, X_val, y_val, train_set, val_set, model, y_pred_probs, y_pred_binary, temp_df\n",
    "\n",
    "# Garbage collection\n",
    "gc.collect()"
   ]
  },
  {
   "cell_type": "markdown",
   "metadata": {},
   "source": [
    "## Flash Flood CV with LightGBM"
   ]
  },
  {
   "cell_type": "markdown",
   "metadata": {},
   "source": [
    "Since my pc takes a while to load models, I tried different combinations of precipitation related features using Optuna on Kaggle to obtain the best hyperparameters and features for the model. Here, the cross validation for the best model is shown. Its features are:\n",
    "* All image related features.\n",
    "* All 365 leads and lags.\n",
    "* Rolling statistics: exponential mean, sum, max, median, std.\n",
    "* Ratio of the precipitation between two consecutive precipitation days.\n",
    "* Aggregated stats of precipitation time series: mean, max, std, kurtosis, skew and percentage of days with rain.\n",
    "* Day related features: consecutive days with rain, number of days since it last rained."
   ]
  },
  {
   "cell_type": "code",
   "execution_count": 11,
   "metadata": {},
   "outputs": [],
   "source": [
    "glcm_terms = ['Contrast', 'Correlation', 'Homogeneity', 'Entropy', 'ASM']\n",
    "glcm_cols = [col for col in data.columns if any(col.endswith(term) for term in glcm_terms)]\n",
    "\n",
    "stats_terms = ['mean', 'std', 'kurtosis', 'skew', 'min', 'max', 'p10', 'p25', 'p50', 'p75', 'p90']\n",
    "stats_cols = [col for col in data.columns if any(col.endswith(term) for term in stats_terms)]\n",
    "\n",
    "m1 = ([col for col in data.columns if col.startswith('precipitation')] + glcm_cols + stats_cols )\n",
    "m1 = list(set(m1))\n",
    "m1 += ['event_t', 'consecutive_rainy_days', 'after_rain_days',  'rain_ratio']\n",
    "m1 = [col for col in m1 if not (col.startswith(\"precipitation_lag_mean\") or col.startswith(\"precipitation_lead_mean\"))]"
   ]
  },
  {
   "cell_type": "code",
   "execution_count": 12,
   "metadata": {},
   "outputs": [
    {
     "name": "stderr",
     "output_type": "stream",
     "text": [
      "c:\\Users\\ifake\\AppData\\Local\\Programs\\Python\\Python310\\lib\\site-packages\\lightgbm\\engine.py:204: UserWarning: Found `num_iterations` in params. Will use it instead of argument\n",
      "  _log_warning(f\"Found `{alias}` in params. Will use it instead of argument\")\n"
     ]
    },
    {
     "name": "stdout",
     "output_type": "stream",
     "text": [
      "Log loss for fold 0: 0.002570203330659267\n"
     ]
    },
    {
     "name": "stderr",
     "output_type": "stream",
     "text": [
      "c:\\Users\\ifake\\AppData\\Local\\Programs\\Python\\Python310\\lib\\site-packages\\lightgbm\\engine.py:204: UserWarning: Found `num_iterations` in params. Will use it instead of argument\n",
      "  _log_warning(f\"Found `{alias}` in params. Will use it instead of argument\")\n"
     ]
    },
    {
     "name": "stdout",
     "output_type": "stream",
     "text": [
      "Log loss for fold 1: 0.002814204358561539\n"
     ]
    },
    {
     "name": "stderr",
     "output_type": "stream",
     "text": [
      "c:\\Users\\ifake\\AppData\\Local\\Programs\\Python\\Python310\\lib\\site-packages\\lightgbm\\engine.py:204: UserWarning: Found `num_iterations` in params. Will use it instead of argument\n",
      "  _log_warning(f\"Found `{alias}` in params. Will use it instead of argument\")\n"
     ]
    },
    {
     "name": "stdout",
     "output_type": "stream",
     "text": [
      "Log loss for fold 2: 0.0026946646839395073\n"
     ]
    },
    {
     "name": "stderr",
     "output_type": "stream",
     "text": [
      "c:\\Users\\ifake\\AppData\\Local\\Programs\\Python\\Python310\\lib\\site-packages\\lightgbm\\engine.py:204: UserWarning: Found `num_iterations` in params. Will use it instead of argument\n",
      "  _log_warning(f\"Found `{alias}` in params. Will use it instead of argument\")\n"
     ]
    },
    {
     "name": "stdout",
     "output_type": "stream",
     "text": [
      "Log loss for fold 3: 0.0024634313318154326\n"
     ]
    },
    {
     "name": "stderr",
     "output_type": "stream",
     "text": [
      "c:\\Users\\ifake\\AppData\\Local\\Programs\\Python\\Python310\\lib\\site-packages\\lightgbm\\engine.py:204: UserWarning: Found `num_iterations` in params. Will use it instead of argument\n",
      "  _log_warning(f\"Found `{alias}` in params. Will use it instead of argument\")\n"
     ]
    },
    {
     "name": "stdout",
     "output_type": "stream",
     "text": [
      "Log loss for fold 4: 0.0026646839392374818\n"
     ]
    },
    {
     "name": "stderr",
     "output_type": "stream",
     "text": [
      "c:\\Users\\ifake\\AppData\\Local\\Programs\\Python\\Python310\\lib\\site-packages\\lightgbm\\engine.py:204: UserWarning: Found `num_iterations` in params. Will use it instead of argument\n",
      "  _log_warning(f\"Found `{alias}` in params. Will use it instead of argument\")\n"
     ]
    },
    {
     "name": "stdout",
     "output_type": "stream",
     "text": [
      "Log loss for fold 5: 0.001806948302819706\n"
     ]
    },
    {
     "name": "stderr",
     "output_type": "stream",
     "text": [
      "c:\\Users\\ifake\\AppData\\Local\\Programs\\Python\\Python310\\lib\\site-packages\\lightgbm\\engine.py:204: UserWarning: Found `num_iterations` in params. Will use it instead of argument\n",
      "  _log_warning(f\"Found `{alias}` in params. Will use it instead of argument\")\n"
     ]
    },
    {
     "name": "stdout",
     "output_type": "stream",
     "text": [
      "Log loss for fold 6: 0.002595575018948783\n"
     ]
    },
    {
     "name": "stderr",
     "output_type": "stream",
     "text": [
      "c:\\Users\\ifake\\AppData\\Local\\Programs\\Python\\Python310\\lib\\site-packages\\lightgbm\\engine.py:204: UserWarning: Found `num_iterations` in params. Will use it instead of argument\n",
      "  _log_warning(f\"Found `{alias}` in params. Will use it instead of argument\")\n"
     ]
    },
    {
     "name": "stdout",
     "output_type": "stream",
     "text": [
      "Log loss for fold 7: 0.0028542093762859906\n"
     ]
    },
    {
     "name": "stderr",
     "output_type": "stream",
     "text": [
      "c:\\Users\\ifake\\AppData\\Local\\Programs\\Python\\Python310\\lib\\site-packages\\lightgbm\\engine.py:204: UserWarning: Found `num_iterations` in params. Will use it instead of argument\n",
      "  _log_warning(f\"Found `{alias}` in params. Will use it instead of argument\")\n"
     ]
    },
    {
     "name": "stdout",
     "output_type": "stream",
     "text": [
      "Log loss for fold 8: 0.002329090373857824\n"
     ]
    },
    {
     "name": "stderr",
     "output_type": "stream",
     "text": [
      "c:\\Users\\ifake\\AppData\\Local\\Programs\\Python\\Python310\\lib\\site-packages\\lightgbm\\engine.py:204: UserWarning: Found `num_iterations` in params. Will use it instead of argument\n",
      "  _log_warning(f\"Found `{alias}` in params. Will use it instead of argument\")\n"
     ]
    },
    {
     "name": "stdout",
     "output_type": "stream",
     "text": [
      "Log loss for fold 9: 0.0023652159119908955\n",
      "Average log loss across all folds: 0.0025158226628116424\n"
     ]
    }
   ],
   "source": [
    "# Initialize the model hyperparameters\n",
    "param_lgb = {\n",
    "    'objective': 'binary',\n",
    "    'metric': 'binary_logloss',\n",
    "    'boosting_type': 'gbdt',\n",
    "    'device': 'cpu',\n",
    "    'max_depth': 3,\n",
    "    'learning_rate': 0.02109231310957362,\n",
    "    'num_iterations': 937,\n",
    "    'bagging_fraction': 0.5958550528828465,\n",
    "    'feature_fraction': 0.7517370100971414,\n",
    "    'min_child_samples': 40,\n",
    "    'lambda_l1': 0.09355028973263738,\n",
    "    'lambda_l2': 0.38495417491314887,\n",
    "    'verbosity': -1,\n",
    "    'seed': SEED\n",
    "}\n",
    "\n",
    "# Inicializar listas para almacenar resultados\n",
    "log_losses = []\n",
    "predictions_list = []\n",
    "\n",
    "# Entrenar modelos con validación cruzada\n",
    "for fold in range(10):  \n",
    "    mask = data['fold'] != fold  \n",
    "    X_train = data.loc[mask, m1]\n",
    "    y_train = data.loc[mask, 'label']\n",
    "    \n",
    "    # Crear y entrenar el modelo\n",
    "    model = lgb.LGBMClassifier(**param_lgb)\n",
    "    model.fit(X_train, y_train)\n",
    "    \n",
    "    # Obtener datos de validación\n",
    "    mask_val = data['fold'] == fold\n",
    "    X_val = data.loc[mask_val, m1]\n",
    "    y_val = data.loc[mask_val, 'label']\n",
    "    event_id = data.loc[mask_val, 'event_id']\n",
    "    event_t = data.loc[mask_val, 'event_t']\n",
    "    \n",
    "    # Predecir\n",
    "    y_pred = model.predict_proba(X_val)[:, 1]\n",
    "    \n",
    "    # Guardar log loss\n",
    "    fold_log_loss = log_loss(y_val, y_pred)\n",
    "    log_losses.append(fold_log_loss)\n",
    "    \n",
    "    # Guardar predicciones\n",
    "    predictions_list.append(pd.DataFrame({\n",
    "        'event_id': event_id.values,\n",
    "        'event_t': event_t.values,\n",
    "        'label': y_val.values,\n",
    "        'predicted_prob': y_pred\n",
    "    }))\n",
    "\n",
    "    print(f\"Log loss for fold {fold}: {fold_log_loss}\")\n",
    "\n",
    "    # **Liberar memoria**\n",
    "    del X_train, y_train, X_val, y_val, event_id, event_t, y_pred, mask, mask_val, model\n",
    "    gc.collect()\n",
    "    \n",
    "# Combine all fold predictions into a single DataFrame\n",
    "all_predictions = pd.concat(predictions_list, ignore_index=True)\n",
    "\n",
    "# Calculate and print the average log loss\n",
    "average_log_loss = np.mean(log_losses)\n",
    "print(f\"Average log loss across all folds: {average_log_loss}\")"
   ]
  },
  {
   "cell_type": "markdown",
   "metadata": {},
   "source": [
    "Now that we have the predictions per fold, I can normalize the probabilities for event_id predicted as having a flood."
   ]
  },
  {
   "cell_type": "code",
   "execution_count": 18,
   "metadata": {},
   "outputs": [],
   "source": [
    "all_predictions = all_predictions.merge(class_predictions, how='left', on=['event_id'])"
   ]
  },
  {
   "cell_type": "code",
   "execution_count": null,
   "metadata": {},
   "outputs": [],
   "source": [
    "# Selecting records to normalize\n",
    "mask = all_predictions['pre_class'] > 0.5\n",
    "\n",
    "# Grouping by event_id and calculating the sum of predicted_prob\n",
    "sum_prob = all_predictions[mask].groupby('event_id')['predicted_prob'].transform('sum')\n",
    "all_predictions.loc[mask, 'predicted_prob'] = all_predictions.loc[mask, 'predicted_prob'] / sum_prob"
   ]
  },
  {
   "cell_type": "code",
   "execution_count": 23,
   "metadata": {},
   "outputs": [],
   "source": [
    "all_predictions = all_predictions.merge(data[['event_id', 'event_t', 'fold']], how='left', on=['event_id', 'event_t'])"
   ]
  },
  {
   "cell_type": "markdown",
   "metadata": {},
   "source": [
    "Calculating log loss per fold and averaging."
   ]
  },
  {
   "cell_type": "code",
   "execution_count": 25,
   "metadata": {},
   "outputs": [
    {
     "name": "stdout",
     "output_type": "stream",
     "text": [
      "Average log loss across all folds: 0.0024288010248819090\n"
     ]
    },
    {
     "name": "stderr",
     "output_type": "stream",
     "text": [
      "C:\\Users\\ifake\\AppData\\Local\\Temp\\ipykernel_1648\\2222925633.py:3: DeprecationWarning: DataFrameGroupBy.apply operated on the grouping columns. This behavior is deprecated, and in a future version of pandas the grouping columns will be excluded from the operation. Either pass `include_groups=False` to exclude the groupings or explicitly select the grouping columns after groupby to silence this warning.\n",
      "  .apply(lambda x: log_loss(x[\"label\"], x[\"predicted_prob\"], labels=[0, 1]))\n"
     ]
    }
   ],
   "source": [
    "avg_log_loss = (\n",
    "    all_predictions.groupby(\"fold\")\n",
    "    .apply(lambda x: log_loss(x[\"label\"], x[\"predicted_prob\"], labels=[0, 1]))\n",
    "    .mean()\n",
    ")\n",
    "\n",
    "print(f\"Average log loss across all folds: {avg_log_loss:.19f}\")"
   ]
  },
  {
   "cell_type": "markdown",
   "metadata": {},
   "source": [
    "As you can see, it lowers the CV log loss by 0.00008702163, aproximately a 3.45% improvement."
   ]
  },
  {
   "cell_type": "markdown",
   "metadata": {},
   "source": [
    "# Checking Predictions"
   ]
  },
  {
   "cell_type": "markdown",
   "metadata": {},
   "source": [
    "As a bonus, this is the function I used to check how shifted my predictions were. As you can see, in some cases the flood is predicted a few days before or afterwards the actual flash flood. Sadly, since i joined the challenge late, this was a problem I had no time to solve."
   ]
  },
  {
   "cell_type": "code",
   "execution_count": 40,
   "metadata": {},
   "outputs": [],
   "source": [
    "def plot_predictions_for_event(event_id, predictions_df):\n",
    "    # Filter the DataFrame for the specified event_id\n",
    "    event_data = predictions_df[predictions_df['event_id'] == event_id]\n",
    "    \n",
    "    # Ensure the event_id has at least one label = 1\n",
    "    if event_data['label'].sum() == 0:\n",
    "        print(f\"Warning: event_id {event_id} has no label = 1.\")\n",
    "        return\n",
    "    \n",
    "    # Get the event_t values where label = 1\n",
    "    label_1_points = event_data[event_data['label'] == 1]\n",
    "\n",
    "    # Get the top 3 highest predicted probability points\n",
    "    top_3_probs = event_data.nlargest(3, 'predicted_prob')\n",
    "\n",
    "    # Create the first plot: label across event_t\n",
    "    plt.figure(figsize=(12, 6))\n",
    "    sns.lineplot(x='event_t', y='label', data=event_data, marker='o', label=\"Actual Label\")\n",
    "    plt.title(f'Label across Event ID: {event_id}')\n",
    "    plt.xlabel('Event Time (event_t)')\n",
    "    plt.ylabel('Label (0 or 1)')\n",
    "    plt.xticks(rotation=45)\n",
    "    \n",
    "    # Annotate points where label = 1\n",
    "    for _, row in label_1_points.iterrows():\n",
    "        plt.text(row['event_t'], row['label'], f\"{row['event_t']}\", \n",
    "                 ha='right', va='bottom', fontsize=10, bbox=dict(facecolor='white', alpha=0.6))\n",
    "\n",
    "    plt.tight_layout()\n",
    "    plt.show()\n",
    "\n",
    "    # Create the second plot: predicted probabilities across event_t\n",
    "    plt.figure(figsize=(12, 6))\n",
    "    sns.lineplot(x='event_t', y='predicted_prob', data=event_data, marker='o', label=\"Predicted Probability\", color='orange')\n",
    "    plt.title(f'Predicted Probabilities across Event Time (event_id: {event_id})')\n",
    "    plt.xlabel('Event Time (event_t)')\n",
    "    plt.ylabel('Predicted Probability')\n",
    "    plt.xticks(rotation=45)\n",
    "    \n",
    "    # Annotate the top 3 highest predicted probability points\n",
    "    for _, row in top_3_probs.iterrows():\n",
    "        plt.text(row['event_t'], row['predicted_prob'], f\"{row['event_t']}\", \n",
    "                 ha='right', va='bottom', fontsize=10, bbox=dict(facecolor='white', alpha=0.6))\n",
    "\n",
    "    plt.tight_layout()\n",
    "    plt.show()"
   ]
  },
  {
   "cell_type": "code",
   "execution_count": 51,
   "metadata": {},
   "outputs": [
    {
     "data": {
      "image/png": "[encoded data removed]",
      "text/plain": [
       "<Figure size 1200x600 with 1 Axes>"
      ]
     },
     "metadata": {},
     "output_type": "display_data"
    },
    {
     "data": {
      "image/png": "[encoded data removed]",
      "text/plain": [
       "<Figure size 1200x600 with 1 Axes>"
      ]
     },
     "metadata": {},
     "output_type": "display_data"
    }
   ],
   "source": [
    "plot_predictions_for_event(event_id='id_3bfp1afj6ftx', predictions_df=all_predictions)"
   ]
  }
 ],
 "metadata": {
  "kernelspec": {
   "display_name": "Python 3",
   "language": "python",
   "name": "python3"
  },
  "language_info": {
   "codemirror_mode": {
    "name": "ipython",
    "version": 3
   },
   "file_extension": ".py",
   "mimetype": "text/x-python",
   "name": "python",
   "nbconvert_exporter": "python",
   "pygments_lexer": "ipython3",
   "version": "3.10.4"
  }
 },
 "nbformat": 4,
 "nbformat_minor": 2
}
